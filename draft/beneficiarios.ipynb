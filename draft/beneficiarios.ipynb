{
 "cells": [
  {
   "cell_type": "code",
   "execution_count": 1,
   "metadata": {},
   "outputs": [],
   "source": [
    "#Librerias\n",
    "import pandas as pd\n",
    "import warnings\n",
    "warnings.filterwarnings('ignore')\n",
    "\n",
    "#Built-In Jose Ordinola Functions\n",
    "from modelo.subfunciones_beneficiarios import funcionBeneficiarios_C1,funcionBeneficiarios_C2_C3,funcionBeneficiarios"
   ]
  },
  {
   "cell_type": "code",
   "execution_count": 2,
   "metadata": {},
   "outputs": [],
   "source": [
    "ruta = '/Users/josealonsoordinolaaucca/Library/CloudStorage/OneDrive-Bibliotecascompartidas:FundaciónIdeasparalaPaz/Gobernanza y Seguridad - GDA/M&E/GDA Y3/MyE_GDA_Reporte Indicadores/Base Datos Beneficiarios/Y3_Beneficiarios'"
   ]
  },
  {
   "cell_type": "code",
   "execution_count": 2,
   "metadata": {},
   "outputs": [
    {
     "name": "stdout",
     "output_type": "stream",
     "text": [
      "['/Users/josealonsoordinolaaucca/Library/CloudStorage/OneDrive-Bibliotecascompartidas:FundaciónIdeasparalaPaz/Gobernanza y Seguridad - GDA/M&E/GDA Y3/MyE_GDA_Reporte Indicadores/Base Datos Beneficiarios/Y3_Beneficiarios/resources/draft', '/Users/josealonsoordinolaaucca/.vscode/extensions/ms-toolsai.jupyter-2022.11.1003412109/pythonFiles', '/Users/josealonsoordinolaaucca/.vscode/extensions/ms-toolsai.jupyter-2022.11.1003412109/pythonFiles/lib/python', '/opt/anaconda3/lib/python39.zip', '/opt/anaconda3/lib/python3.9', '/opt/anaconda3/lib/python3.9/lib-dynload', '', '/opt/anaconda3/lib/python3.9/site-packages', '/opt/anaconda3/lib/python3.9/site-packages/aeosa', '/opt/anaconda3/lib/python3.9/site-packages/IPython/extensions', '/Users/josealonsoordinolaaucca/.ipython']\n"
     ]
    }
   ],
   "source": [
    "import sys\n",
    "\n",
    "print(sys.path)"
   ]
  },
  {
   "cell_type": "code",
   "execution_count": 2,
   "metadata": {},
   "outputs": [],
   "source": [
    "'''\n",
    "COMPONENTE 01:\n",
    "--------------\n",
    "Se cargan los beneficiarios \"activos\" al cierre del ultimo reporte Trimestral\n",
    "\n",
    "------------------------------------------------------------------------------\n",
    "'''\n",
    "\n",
    "'''Instrumento CC01'''\n",
    "instrumentoCC01 = '/Users/josealonsoordinolaaucca/Library/CloudStorage/OneDrive-Bibliotecascompartidas:FundaciónIdeasparalaPaz/Gobernanza y Seguridad - GDA/M&E/GDA Y3/MyE_GDA_Componente 1/CC01 Reporte de Productividad Y3.xlsx'\n",
    "beneficiaries_C1 = pd.read_excel(instrumentoCC01,header=4)\n",
    "\n",
    "'''Beneficiarios Componente C1''' \n",
    "beneficiaries_C1 = funcionBeneficiarios_C1(beneficiaries_C1)"
   ]
  },
  {
   "cell_type": "code",
   "execution_count": 3,
   "metadata": {},
   "outputs": [],
   "source": [
    "'''\n",
    "COMPONENTE 02:\n",
    "--------------\n",
    "Se cargan los beneficiarios \"activos\" al cierre del ultimo reporte Trimestral \n",
    "\n",
    "Se toman en consideracion tres bases del C2 :\n",
    "\n",
    "    1.- Genero\n",
    "    2.- Jovenes\n",
    "    3.- Gobernanza\n",
    "    \n",
    "------------------------------------------------------------------------------\n",
    "'''\n",
    "\n",
    "'''Instrumentos C2'''\n",
    "instrumentoCC21 = '/Users/josealonsoordinolaaucca/Library/CloudStorage/OneDrive-Bibliotecascompartidas:FundaciónIdeasparalaPaz/Gobernanza y Seguridad - GDA/M&E/GDA Y3/MyE_GDA_Componente 2/CC21_Lista_Asistencia_Genero.xlsx'\n",
    "instrumentoCC22 = '/Users/josealonsoordinolaaucca/Library/CloudStorage/OneDrive-Bibliotecascompartidas:FundaciónIdeasparalaPaz/Gobernanza y Seguridad - GDA/M&E/GDA Y3/MyE_GDA_Componente 2/CC22_Lista_Asistencia_Jovenes.xlsx'\n",
    "instrumentoCC23 = '/Users/josealonsoordinolaaucca/Library/CloudStorage/OneDrive-Bibliotecascompartidas:FundaciónIdeasparalaPaz/Gobernanza y Seguridad - GDA/M&E/GDA Y3/MyE_GDA_Componente 2/CC23_Lista_Asistencia_Gobernanza.xlsx'\n",
    "\n",
    "beneficiaries_CC21 = pd.read_excel(instrumentoCC21,sheet_name='resumen_mel')\n",
    "beneficiaries_CC22 = pd.read_excel(instrumentoCC22,sheet_name='resumen_mel')\n",
    "beneficiaries_CC23 = pd.read_excel(instrumentoCC23,sheet_name='resumen_mel')\n",
    "\n",
    "'''Beneficiarios Componente C2'''\n",
    "beneficiaries_CC21,beneficiaries_CC22,beneficiaries_CC23 = funcionBeneficiarios_C2_C3(beneficiaries_CC21),\\\n",
    "                                                           funcionBeneficiarios_C2_C3(beneficiaries_CC22),\\\n",
    "                                                           funcionBeneficiarios_C2_C3(beneficiaries_CC23)\n",
    "\n",
    "beneficiaries_C2 = pd.concat([beneficiaries_CC21,beneficiaries_CC22,beneficiaries_CC23])"
   ]
  },
  {
   "cell_type": "code",
   "execution_count": 4,
   "metadata": {},
   "outputs": [],
   "source": [
    "'''\n",
    "COMPONENTE 03:\n",
    "--------------\n",
    "Se cargan los beneficiarios \"activos\" al cierre del ultimo reporte Trimestral \n",
    "\n",
    "Se toman en consideracion dos bases del C3 :\n",
    "\n",
    "    1.- Habilidades Digitales\n",
    "    2.- Institucional \n",
    "\n",
    "------------------------------------------------------------------------------\n",
    "'''\n",
    "\n",
    "'''Instrumentos C3'''\n",
    "instrumentoCC31 = '/Users/josealonsoordinolaaucca/Library/CloudStorage/OneDrive-Bibliotecascompartidas:FundaciónIdeasparalaPaz/Gobernanza y Seguridad - GDA/M&E/GDA Y3/MyE_GDA_Componente 3/CC31_Lista_Asistencia_Institucional.xlsx'\n",
    "instrumentoCC32 = '/Users/josealonsoordinolaaucca/Library/CloudStorage/OneDrive-Bibliotecascompartidas:FundaciónIdeasparalaPaz/Gobernanza y Seguridad - GDA/M&E/GDA Y3/MyE_GDA_Componente 3/CC32_Lista_Asistencia_Habilidades Digitales.xlsx'\n",
    "\n",
    "beneficiaries_CC31 = pd.read_excel(instrumentoCC31,sheet_name='resumen_mel')\n",
    "beneficiaries_CC32 = pd.read_excel(instrumentoCC32,sheet_name='resumen_mel')\n",
    "\n",
    "'''Beneficiarios Componente C3'''\n",
    "beneficiaries_CC31,beneficiaries_CC32 = funcionBeneficiarios_C2_C3(beneficiaries_CC31),\\\n",
    "                                        funcionBeneficiarios_C2_C3(beneficiaries_CC32),\\\n",
    "                                        \n",
    "beneficiaries_C3 = pd.concat([beneficiaries_CC31,beneficiaries_CC32])"
   ]
  },
  {
   "cell_type": "code",
   "execution_count": 5,
   "metadata": {},
   "outputs": [],
   "source": [
    "'''\n",
    "------------------------------------------------------------------------------\n",
    "BENEFICIARIOS Y3\n",
    "\n",
    "    Se concatenan la base de beneficiarios registrados en los intrumentos de \n",
    "    las actividades realizadas por componente\n",
    "        \n",
    "        C1 -> Productividad\n",
    "        C2 -> Jovenes, Genero, Gobernanza\n",
    "        C3 -> Institucional, Habilidades Blandas\n",
    "    \n",
    "    * El codigo genera un conteo por COMPONENTE\n",
    "    * Despues crea una base de datos unificada de los beneficiarios que\n",
    "      incluye las actividades en las cuales participa el beneficiario.    \n",
    "        \n",
    "------------------------------------------------------------------------------ '''\n",
    "\n",
    "'''* BASE PARA FILTRAR DATOS POR COMPONENTE'''\n",
    "beneficiaries_draft = pd.concat([beneficiaries_C1,\n",
    "                                 beneficiaries_C2,\n",
    "                                 beneficiaries_C3]) \n",
    "\n",
    "'''* BASE UNIFICADA DE BENEFICIARIOS Y3'''\n",
    "resultados = funcionBeneficiarios(beneficiaries_draft)\n",
    "\n",
    "beneficiaries       = resultados[0]\n",
    "agregado_july       = resultados[1]\n",
    "agregado_genero     = resultados[2]"
   ]
  },
  {
   "cell_type": "code",
   "execution_count": null,
   "metadata": {},
   "outputs": [],
   "source": [
    "    \n",
    "    # '''Tabla Desagregados_July'''\n",
    "    # data_tabla = data.pivot_table(\n",
    "    #                         index='GENERO ',\n",
    "    #                         columns=['COMPONENTE','RANGO EDAD'],\n",
    "    #                         values='N° CEDULA',\n",
    "    #                         aggfunc = 'count'                        \n",
    "    #                         ).fillna('-')\n",
    "    # data_tabla\n",
    "\n",
    "    # '''Tabla Desagregados_Genero'''\n",
    "    # data_genero = data.pivot_table(\n",
    "    #                         index='GENERO ',\n",
    "    #                         columns=['COMPONENTE'],\n",
    "    #                         values='N° CEDULA',\n",
    "    #                         aggfunc = 'count'                        \n",
    "    #                         ).fillna('-')\n",
    "    # data_genero\n",
    "\n",
    "    # tablas = [data,data_tabla,data_genero]\n",
    "\n",
    "    # return data"
   ]
  }
 ],
 "metadata": {
  "kernelspec": {
   "display_name": "Python 3",
   "language": "python",
   "name": "python3"
  },
  "language_info": {
   "codemirror_mode": {
    "name": "ipython",
    "version": 3
   },
   "file_extension": ".py",
   "mimetype": "text/x-python",
   "name": "python",
   "nbconvert_exporter": "python",
   "pygments_lexer": "ipython3",
   "version": "3.9.13 (main, Aug 25 2022, 18:29:29) \n[Clang 12.0.0 ]"
  },
  "orig_nbformat": 4,
  "vscode": {
   "interpreter": {
    "hash": "40d3a090f54c6569ab1632332b64b2c03c39dcf918b08424e98f38b5ae0af88f"
   }
  }
 },
 "nbformat": 4,
 "nbformat_minor": 2
}
